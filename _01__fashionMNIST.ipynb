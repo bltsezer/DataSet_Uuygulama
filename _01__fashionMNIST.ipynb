{
  "nbformat": 4,
  "nbformat_minor": 0,
  "metadata": {
    "colab": {
      "name": "_01_.fashionMNIST",
      "private_outputs": true,
      "provenance": [],
      "collapsed_sections": [],
      "authorship_tag": "ABX9TyPwgEtEOwtoQ6YHS8XOk6BS",
      "include_colab_link": true
    },
    "kernelspec": {
      "name": "python3",
      "display_name": "Python 3"
    },
    "language_info": {
      "name": "python"
    }
  },
  "cells": [
    {
      "cell_type": "markdown",
      "metadata": {
        "id": "view-in-github",
        "colab_type": "text"
      },
      "source": [
        "<a href=\"https://colab.research.google.com/github/bltsezer/DataSet_Uuygulama/blob/main/_01__fashionMNIST.ipynb\" target=\"_parent\"><img src=\"https://colab.research.google.com/assets/colab-badge.svg\" alt=\"Open In Colab\"/></a>"
      ]
    },
    {
      "cell_type": "code",
      "metadata": {
        "id": "OSHAwSRiqLES"
      },
      "source": [
        ""
      ],
      "execution_count": null,
      "outputs": []
    },
    {
      "cell_type": "markdown",
      "metadata": {
        "id": "FjjyStBBXxBG"
      },
      "source": [
        "Burada gerekli paketleri import edip,tensorflow versiyonu yazdiralım"
      ]
    },
    {
      "cell_type": "code",
      "metadata": {
        "id": "Oviwa2cnLX-m"
      },
      "source": [
        "import tensorflow as tf\n",
        "# TensorFlow and tf.keras\n",
        "import tensorflow as tf\n",
        "\n",
        "# Helper libraries\n",
        "import numpy as np\n",
        "import matplotlib.pyplot as plt\n",
        "\n",
        "print(tf.__version__)"
      ],
      "execution_count": null,
      "outputs": []
    },
    {
      "cell_type": "markdown",
      "metadata": {
        "id": "LpVe8tyuXV9K"
      },
      "source": [
        "Burada 10 kategoriye ayrılmış, 70.000 adet gri formatlı resimler içeren Fashion MNIST veri seti kullacacağız. Görüntüler,düşük çözünürlüğe (28 x 28 piksel) sahiptir.Sonrasında Verisetimizi 'load_data()' fonksiyonu ile Eğitim ve Test diye ikiye ayırıyoruz.Eğitim ve test verisinde,  görüntü ve  sayısal etiket olarak ayırıyoruz"
      ]
    },
    {
      "cell_type": "code",
      "metadata": {
        "id": "T29_ERafJiFX"
      },
      "source": [
        "fashion_mnist = tf.keras.datasets.fashion_mnist\n",
        "\n",
        "(train_images, train_labels), (test_images, test_labels) = fashion_mnist.load_data()"
      ],
      "execution_count": null,
      "outputs": []
    },
    {
      "cell_type": "markdown",
      "metadata": {
        "id": "Nk5uuwLMYbO4"
      },
      "source": [
        "veri setini inceleyelim.'shape' sözcügü boyutu hakkında bilgi verir\n",
        "\n",
        "gri format  (adet,genislik,yükseklik)\n",
        "\n",
        "RGB format  (adet,genislik,yükseklik,kanalSayısı=3)\n",
        "!!!: kanal sayısı varsayılan olarak 3 yazılır(Red,Green,Blue)"
      ]
    },
    {
      "cell_type": "code",
      "metadata": {
        "id": "qPBvFnvYLj0G"
      },
      "source": [
        "print(\"egitim verisinin boyutu: \",train_images.shape)\n",
        "print(\"egitim verisinindeki görüntü sayısı: \",train_images.shape[0])\n",
        "print(\"egitim verisinindeki etiket boyutu: \",train_labels.shape)\n",
        "print(\"egitim verisinindeki etiket sayısı: \",train_labels.shape[0])\n",
        "print(\"\\ntest verisinin boyutu: \",test_images.shape)\n",
        "print(\"test verisinindeki görüntü sayısı: \",test_images.shape[0])\n",
        "print(\"test verisinindeki etiket boyutu: \",test_labels.shape)\n",
        "print(\"test verisinindeki etiket sayısı: \",test_labels.shape[0])"
      ],
      "execution_count": null,
      "outputs": []
    },
    {
      "cell_type": "markdown",
      "metadata": {
        "id": "urM9MdJ_ch2k"
      },
      "source": [
        "Resimleri metinlendirmek için bir liste olusturup,içerisine kategoriye göre sınıf isimlerini yazalım."
      ]
    },
    {
      "cell_type": "code",
      "metadata": {
        "id": "8jMKxOknJqbw"
      },
      "source": [
        "class_names = ['T-shirt', 'Pantolon', 'Kazak', 'Elbise', 'Palto',\n",
        "               'Terlik', 'Gömlek', 'Spor', 'Çanta', 'Bot']"
      ],
      "execution_count": null,
      "outputs": []
    },
    {
      "cell_type": "markdown",
      "metadata": {
        "id": "8uZJWGY_dL3L"
      },
      "source": [
        "Görüntü içerisinde pixel değerlerinin 0-255 arası olduğunu görelim\n",
        "\n",
        "Örnek olarak ilk resmin pixel ve etiket değerini yazalım"
      ]
    },
    {
      "cell_type": "code",
      "metadata": {
        "id": "hWpEX7YcdQw3"
      },
      "source": [
        "print(\"Bilgisayar resmi böyle görür \\n\")\n",
        "print(train_images[0],\"\\n\")"
      ],
      "execution_count": null,
      "outputs": []
    },
    {
      "cell_type": "markdown",
      "metadata": {
        "id": "BqDnPgR_ebez"
      },
      "source": [
        "Biz resme bakınca böyle görüyoruz."
      ]
    },
    {
      "cell_type": "code",
      "metadata": {
        "id": "cj8JvTZoekBD"
      },
      "source": [
        "plt.figure()\n",
        "plt.imshow(train_images[0],cmap=plt.cm.binary)\n",
        "plt.grid(False)\n",
        "plt.show()"
      ],
      "execution_count": null,
      "outputs": []
    },
    {
      "cell_type": "markdown",
      "metadata": {
        "id": "8c6eOAQXe_r_"
      },
      "source": [
        "Resmi bir onişleme tabi tutalım.Pixel degerlerini 255.0 ile bölüp 0 ile 1 arasındaki değerlere(dtype=float64) atayalım.\n",
        "\n",
        "Farklı standardization için buraya https://scikit-learn.org/stable/modules/preprocessing.html tiklayabilirsiniz"
      ]
    },
    {
      "cell_type": "code",
      "metadata": {
        "id": "eqf4k1Y4Lau4"
      },
      "source": [
        "from sklearn.preprocessing import MinMaxScaler,StandardScaler,MaxAbsScaler\n",
        "\n",
        "train_images_sca = train_images/255.0\n",
        "test_images_sca = test_images/255.0\n",
        "\n",
        "\n",
        "#scaler = MinMaxScaler()\n",
        "#scaler.fit(train_images[10])\n",
        "#train_images_mms =scaler.transform( train_images[10])\n",
        "#test_images_mms =scaler.transform(test_images[10])\n",
        "\n",
        "#scaler2 = StandardScaler()\n",
        "#scaler2.fit(train_images[10])\n",
        "#train_images_mms =scaler2.transform( train_images[10])\n",
        "#test_images_mms =scaler2.transform(test_images[10])"
      ],
      "execution_count": null,
      "outputs": []
    },
    {
      "cell_type": "markdown",
      "metadata": {
        "id": "NOAIG3jTgp_7"
      },
      "source": [
        "Örnek olarak rastgele 9 adet görüntüyü alalım"
      ]
    },
    {
      "cell_type": "code",
      "metadata": {
        "id": "kulg-r2YPzok"
      },
      "source": [
        "plt.figure(figsize=(10,10))\n",
        "for i in range(9):\n",
        "  r=np.random.randint(1000)\n",
        "  plt.subplot(3,3,i+1)\n",
        "  plt.xticks([])\n",
        "  plt.yticks([])\n",
        "  plt.grid(False)\n",
        "  plt.imshow(train_images_sca[r], cmap=plt.cm.binary)\n",
        "  plt.xlabel(class_names[train_labels[r]])\n",
        "plt.show()"
      ],
      "execution_count": null,
      "outputs": []
    },
    {
      "cell_type": "markdown",
      "metadata": {
        "id": "LatP_94Yi_1B"
      },
      "source": [
        "Görüntüyü tahmin edecek modeli yazalim.\n",
        "\n",
        "Modelimiz 4 katmanlı,giris olarak 28*28 lik görüntü alır.Çıkış olarak kategoride etiketlenmis sınıfı tahmin oranlarını gösterecektir."
      ]
    },
    {
      "cell_type": "code",
      "metadata": {
        "id": "i6EpTb8EQH5a"
      },
      "source": [
        "model = tf.keras.Sequential([\n",
        "    tf.keras.layers.Flatten(input_shape=(28, 28)),\n",
        "    tf.keras.layers.Dense(128, activation='relu'),\n",
        "    tf.keras.layers.Dense(64, activation='relu'),\n",
        "    tf.keras.layers.Dense(32, activation='relu'),\n",
        "    tf.keras.layers.Dense(10)\n",
        "])"
      ],
      "execution_count": null,
      "outputs": []
    },
    {
      "cell_type": "markdown",
      "metadata": {
        "id": "Zb29YrILjiJf"
      },
      "source": [
        "Modeli derlerken varsayılan olarak optiize edici olarak 'adam',metrics olarak 'accuracy' parametreleri verilsin.\n",
        "\n",
        "https://www.tensorflow.org/api_docs/python/tf/keras/optimizers\n",
        "\n",
        "https://www.tensorflow.org/api_docs/python/tf/keras/metrics\n",
        "\n",
        "https://www.tensorflow.org/api_docs/python/tf/keras/losses\n",
        "\n",
        "adresinden diğer parametreleri deneyebilirsiniz\n",
        "\n"
      ]
    },
    {
      "cell_type": "code",
      "metadata": {
        "id": "aMrIvZo2QPTQ"
      },
      "source": [
        "model.compile(optimizer='adam',\n",
        "              loss=tf.keras.losses.SparseCategoricalCrossentropy(from_logits=True),\n",
        "              metrics=['accuracy'])"
      ],
      "execution_count": null,
      "outputs": []
    },
    {
      "cell_type": "markdown",
      "metadata": {
        "id": "u9QY_pb8kc9h"
      },
      "source": [
        "Modeli eğitirken verilerin tamamı aynı anda eğitime katılmaz.Modelin bazı parçalar halinde eğitimde yer alırlar.İlk kısım eğitilip, modelin başarı durumu test edilir, başarı durumuna  göre geriyeyayılım ile ağırlıklar güncellenir.\n",
        "\n",
        " Daha sonra yeni eğitim kümesi ile model tekrar eğitilir ve ağırlıklar tekrar güncellenir. Bu işlem her bir eğitim adımında tekrarlanarak model için en uygun ağırlık değerleri hesaplanmaya çalışılır. Bu adımlara EPOCH diyoruz.\n",
        "\n",
        " Epoch degerini 10 atalim ve modeli fit edelim."
      ]
    },
    {
      "cell_type": "code",
      "metadata": {
        "id": "eQ3eMk0rQSnz"
      },
      "source": [
        "model.fit(train_images_sca, train_labels, epochs=10)"
      ],
      "execution_count": null,
      "outputs": []
    },
    {
      "cell_type": "markdown",
      "metadata": {
        "id": "xD11toBdmB-w"
      },
      "source": [
        "Modelin dogruluk'accuracy' ve kayıp'loss' degerlerini yazdiralim"
      ]
    },
    {
      "cell_type": "code",
      "metadata": {
        "id": "AZtIfiOPQX9U"
      },
      "source": [
        "train_loss, train_acc = model.evaluate(train_images_sca,  train_labels, verbose=2)\n",
        "test_loss, test_acc = model.evaluate(test_images_sca,  test_labels, verbose=2)\n",
        "print('\\nTrain accuracy:', train_acc)\n",
        "print('Train loss:', train_loss)\n",
        "\n",
        "print('\\nTest accuracy:', test_acc)\n",
        "print('Test loss:', test_loss)"
      ],
      "execution_count": null,
      "outputs": []
    },
    {
      "cell_type": "markdown",
      "metadata": {
        "id": "iSq968IiqP-2"
      },
      "source": [
        "Tahminciyi(prediction yani) olustıralım"
      ]
    },
    {
      "cell_type": "code",
      "metadata": {
        "id": "t25MgFuFQtye"
      },
      "source": [
        "probability_model = tf.keras.Sequential([model, tf.keras.layers.Softmax()])\n",
        "predictions = probability_model.predict(test_images_sca)"
      ],
      "execution_count": null,
      "outputs": []
    },
    {
      "cell_type": "markdown",
      "metadata": {
        "id": "i-Xl0nmlqj9T"
      },
      "source": [
        "rastgele 2 tanesini yazdıralım"
      ]
    },
    {
      "cell_type": "code",
      "metadata": {
        "id": "HE27BrDmQ9rT"
      },
      "source": [
        "import numpy as np\n",
        "for i in range(0,2):\n",
        "  rnd=np.random.randint(10)\n",
        "  print(f\"---------{i+1} resim-----------\")\n",
        "  print(rnd,\". test degeri:\\n\",test_images_sca[rnd])\n",
        "  print(rnd,\". test etiketi: \",class_names[test_labels[rnd]])\n",
        "  print(\"\")\n",
        "  print(rnd,\". tahmin degeri: \\n\",predictions[rnd])\n",
        "  print(rnd,\". tahmin etiketi: \",class_names[np.argmax(predictions[rnd])])\n",
        "  print(\"--------------------------------------\\n\")"
      ],
      "execution_count": null,
      "outputs": []
    },
    {
      "cell_type": "markdown",
      "metadata": {
        "id": "l5m0Gi4sr51y"
      },
      "source": [
        "görüntüyü ve tahminleri çizdirecek fonksiyonu yazalim"
      ]
    },
    {
      "cell_type": "code",
      "metadata": {
        "id": "khb1uovSUBKH"
      },
      "source": [
        "def plot_image(i, predictions_array, true_label, img):\n",
        "  true_label, img = true_label[i], img[i]\n",
        "  plt.grid(False)\n",
        "  plt.xticks([])\n",
        "  plt.yticks([])\n",
        "\n",
        "  plt.imshow(img, cmap=plt.cm.binary)\n",
        "\n",
        "  predicted_label = np.argmax(predictions_array)\n",
        "  if predicted_label == true_label:\n",
        "    color = 'blue'\n",
        "  else:\n",
        "    color = 'red'\n",
        "\n",
        "  plt.xlabel(\"{} {:2.0f}% ({})\".format(class_names[predicted_label],\n",
        "                                100*np.max(predictions_array),\n",
        "                                class_names[true_label]),\n",
        "                                color=color)\n",
        "\n",
        "def plot_value_array(i, predictions_array, true_label):\n",
        "  true_label = true_label[i]\n",
        "  plt.grid(False)\n",
        "  plt.xticks(range(10))\n",
        "  plt.yticks([])\n",
        "  thisplot = plt.bar(range(10), predictions_array, color=\"#777777\")\n",
        "  plt.ylim([0, 1])\n",
        "  predicted_label = np.argmax(predictions_array)\n",
        "\n",
        "  thisplot[predicted_label].set_color('red')\n",
        "  thisplot[true_label].set_color('blue')"
      ],
      "execution_count": null,
      "outputs": []
    },
    {
      "cell_type": "markdown",
      "metadata": {
        "id": "DklvEq9ksbzf"
      },
      "source": [
        "görüntüleri ve tahminleri inceleyelim"
      ]
    },
    {
      "cell_type": "code",
      "metadata": {
        "id": "N8AHy2zhUO5y"
      },
      "source": [
        "\n",
        "num_rows = 5\n",
        "num_cols = 3\n",
        "num_images = num_rows*num_cols\n",
        "plt.figure(figsize=(2*2*num_cols, 2*num_rows))\n",
        "for i in range(num_images):\n",
        "  plt.subplot(num_rows, 2*num_cols, 2*i+1)\n",
        "  plot_image(i, predictions[i], test_labels, test_images)\n",
        "  \n",
        "  plt.subplot(num_rows, 2*num_cols, 2*i+2)\n",
        "  plot_value_array(i, predictions[i], test_labels)\n",
        "plt.tight_layout()\n",
        "plt.show()"
      ],
      "execution_count": null,
      "outputs": []
    },
    {
      "cell_type": "markdown",
      "metadata": {
        "id": "g8vXHOwTsyWJ"
      },
      "source": [
        "Model testten gelen görüntüyü nasıl tahmin etmiş"
      ]
    },
    {
      "cell_type": "code",
      "metadata": {
        "id": "oY4mDvm0V_pY"
      },
      "source": [
        "\n",
        "r=int(input(\"resim için (0-10000) arası deger gir: \"))\n",
        "max_l=test_images_sca.shape[0]\n",
        "if r>max_l:\n",
        "  r=int(input(f\"{max_l}den daha kucuk deger gir: \"))\n",
        "\n",
        "img = (np.expand_dims(test_images_sca[r],0))\n",
        "print(test_labels[r],\"= \",class_names[test_labels[r]])\n",
        ",\n",
        "predictions_single = probability_model.predict(img)\n",
        "\n",
        "print(predictions_single)\n",
        "\n",
        "plot_value_array(1, predictions_single[0], test_labels)\n",
        "_ = plt.xticks(range(10), class_names, rotation=45)\n",
        "plt.show()\n",
        "\n",
        "np.argmax(predictions_single[0])"
      ],
      "execution_count": null,
      "outputs": []
    },
    {
      "cell_type": "markdown",
      "metadata": {
        "id": "Oi5ZmMgTvNXq"
      },
      "source": [
        "# Artık uyku vakti"
      ]
    }
  ]
}